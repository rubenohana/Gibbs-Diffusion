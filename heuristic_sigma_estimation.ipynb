{
 "cells": [
  {
   "cell_type": "markdown",
   "metadata": {},
   "source": [
    "#### Gets a quick estimate of the noise level (for initilization of the Gibbs chains), given the image standard deviation."
   ]
  },
  {
   "cell_type": "code",
   "execution_count": 2,
   "metadata": {},
   "outputs": [],
   "source": [
    "import torch\n",
    "import numpy as np\n",
    "import matplotlib.pyplot as plt\n",
    "import sys\n",
    "\n",
    "from data import GDiff_dataset\n",
    "from gibbs_diffusion.model import load_model\n",
    "from inference_utils.utils_hmc import ColoredPS\n",
    "\n",
    "import inference_utils.utils_hmc as iut\n",
    "from utils import get_colored_noise_2d\n",
    "from sklearn.linear_model import LinearRegression"
   ]
  },
  {
   "cell_type": "code",
   "execution_count": 3,
   "metadata": {},
   "outputs": [],
   "source": [
    "device = 0\n",
    "\n",
    "# Target parameters\n",
    "norm_phi_mode = 'compact' # Normalization mode for phi among ['compact', 'inf', None]\n",
    "sigma_min, sigma_max = 0.01, 1.0 # Bounds for sigma (no normalization). 0.01 leads to timestep of 1 -> we should not consider lower values with the current model.\n",
    "\n",
    "# Inference parameters\n",
    "num_samples = 68"
   ]
  },
  {
   "cell_type": "code",
   "execution_count": 4,
   "metadata": {},
   "outputs": [],
   "source": [
    "# Load dataset, diffusion model, and power spectrum model\n",
    "dataset = GDiff_dataset(dataset=\"cbsd68\")\n",
    "model = load_model(device=device)\n",
    "ps_model = ColoredPS(norm_input_phi=norm_phi_mode)"
   ]
  },
  {
   "cell_type": "code",
   "execution_count": 5,
   "metadata": {},
   "outputs": [
    {
     "name": "stdout",
     "output_type": "stream",
     "text": [
      "Normalized prior bounds are: tensor([0.0000, 0.0100], device='cuda:0') tensor([1., 1.], device='cuda:0')\n"
     ]
    }
   ],
   "source": [
    "#\n",
    "# Prior, likelihood, and posterior functions\n",
    "#\n",
    "\n",
    "sample_phi_prior = lambda n: iut.sample_prior_phi(n, norm=norm_phi_mode, device=device) # Sample uniformly in [-1, 1]\n",
    "\n",
    "#\n",
    "# Bounds and collision management\n",
    "#\n",
    "\n",
    "phi_min_norm, phi_max_norm = iut.get_phi_bounds(device=device) #change to work in [-1,1]\n",
    "phi_min_norm, phi_max_norm = iut.normalize_phi(phi_min_norm, mode=norm_phi_mode), iut.normalize_phi(phi_max_norm, mode=norm_phi_mode) #change to work in [-1,1]\n",
    "sigma_min_tensor = torch.tensor([sigma_min]).to(device)\n",
    "sigma_max_tensor = torch.tensor([sigma_max]).to(device)\n",
    "phi_min_norm = torch.concatenate((phi_min_norm, sigma_min_tensor)) # Add sigma_min to the list of parameter bounds\n",
    "phi_max_norm = torch.concatenate((phi_max_norm, sigma_max_tensor)) # Add sigma_max to the list of parameter bounds\n",
    "\n",
    "\n",
    "print(\"Normalized prior bounds are:\", phi_min_norm, phi_max_norm)"
   ]
  },
  {
   "cell_type": "code",
   "execution_count": 6,
   "metadata": {},
   "outputs": [],
   "source": [
    "#\n",
    "# Make test data\n",
    "#\n",
    "\n",
    "# Sample phi, sigma, load images, and add noise\n",
    "phi_true = sample_phi_prior(num_samples)\n",
    "sigma_true = torch.rand(num_samples, device=device) * (sigma_max - sigma_min) + sigma_min\n",
    "ps_test = ps_model(phi=phi_true) # power spectrum corresponding to phi_test (taking into account the normalization)\n",
    "sigma_test_timestep, _ = model.get_closest_timestep(sigma_true, model)\n",
    "alpha_bar_t = model.alpha_bar_t[sigma_test_timestep.cpu()].reshape(-1, 1, 1, 1).to(device)\n",
    "x = []\n",
    "for i in range(num_samples):\n",
    "    x.append(dataset[i][0].to(device))\n",
    "x = torch.stack(x)\n",
    "eps = torch.sqrt(1 - alpha_bar_t)/torch.sqrt(alpha_bar_t)*get_colored_noise_2d((num_samples, 3, 256, 256), phi_true).to(device) # get_colored_noise_2d needs unnormalized parameters\n",
    "y = x + eps # Noisy image\n",
    "yt = torch.sqrt(alpha_bar_t) * y # Noisy image normalized for the diffusion model"
   ]
  },
  {
   "cell_type": "code",
   "execution_count": 7,
   "metadata": {},
   "outputs": [
    {
     "data": {
      "text/plain": [
       "tensor([0.2829, 0.5926, 0.4248, 0.1663, 0.2036, 0.5676, 0.1937, 0.9881, 0.6477,\n",
       "        0.3050, 0.4587, 0.5228, 0.1917, 0.4609, 0.2435, 0.5787, 0.5112, 0.1826,\n",
       "        0.2022, 0.7634, 0.8842, 0.7743, 0.9828, 0.3374, 0.2634, 0.9330, 0.0139,\n",
       "        0.6935, 0.3314, 0.4044, 0.9033, 0.6067, 0.1591, 0.6710, 0.1937, 0.3414,\n",
       "        0.8783, 0.4559, 0.5422, 0.3747, 0.9520, 0.4129, 0.6280, 0.9344, 0.7832,\n",
       "        0.1965, 0.0944, 0.8871, 0.6983, 0.8503, 0.2368, 0.1344, 0.5115, 0.6834,\n",
       "        0.7254, 0.3976, 0.2474, 0.7957, 0.0687, 0.6643, 0.6795, 0.0999, 0.5830,\n",
       "        0.6274, 0.5319, 0.4482, 0.0474, 0.9684], device='cuda:0')"
      ]
     },
     "execution_count": 7,
     "metadata": {},
     "output_type": "execute_result"
    }
   ],
   "source": [
    "sigma_true"
   ]
  },
  {
   "cell_type": "code",
   "execution_count": 8,
   "metadata": {},
   "outputs": [],
   "source": [
    "y_std = y.std(dim=(1,2,3))"
   ]
  },
  {
   "cell_type": "code",
   "execution_count": 9,
   "metadata": {},
   "outputs": [],
   "source": [
    "y = sigma_true.cpu().numpy()\n",
    "x = y_std.cpu().numpy()"
   ]
  },
  {
   "cell_type": "code",
   "execution_count": 10,
   "metadata": {},
   "outputs": [
    {
     "name": "stdout",
     "output_type": "stream",
     "text": [
      "R2 score: 0.9852618854279165\n",
      "Slope: 1.0911896\n",
      "Intercept: -0.11064112\n",
      "Slope error: 1.0446002\n",
      "Intercept error: [nan]\n"
     ]
    },
    {
     "name": "stderr",
     "output_type": "stream",
     "text": [
      "/tmp/ipykernel_1034910/1868530755.py:7: RuntimeWarning: invalid value encountered in sqrt\n",
      "  print(\"Intercept error:\", np.sqrt(np.diag(reg.intercept_))[0])\n"
     ]
    }
   ],
   "source": [
    "# Make a linear regression of y_std as a function of sigma_true\n",
    "reg = LinearRegression().fit(x.reshape(-1, 1), y.reshape(-1, 1))\n",
    "print(\"R2 score:\", reg.score(x.reshape(-1, 1), y.reshape(-1, 1)))\n",
    "print(\"Slope:\", reg.coef_[0,0])\n",
    "print(\"Intercept:\", reg.intercept_[0])\n",
    "print(\"Slope error:\", np.sqrt(np.diag(reg.coef_))[0])\n",
    "print(\"Intercept error:\", np.sqrt(np.diag(reg.intercept_))[0])"
   ]
  },
  {
   "cell_type": "code",
   "execution_count": 11,
   "metadata": {},
   "outputs": [
    {
     "data": {
      "text/plain": [
       "<matplotlib.legend.Legend at 0x7f413e634700>"
      ]
     },
     "execution_count": 11,
     "metadata": {},
     "output_type": "execute_result"
    },
    {
     "data": {
      "image/png": "[encoded data removed]",
      "text/plain": [
       "<Figure size 640x480 with 1 Axes>"
      ]
     },
     "metadata": {},
     "output_type": "display_data"
    }
   ],
   "source": [
    "# Plot the results\n",
    "plt.figure()\n",
    "plt.scatter(x, y, label=\"Data\")\n",
    "x_plot = np.linspace(0, 1, 100)\n",
    "plt.plot(x_plot, reg.predict(x_plot.reshape(-1, 1)), label=\"Linear regression\", color=\"red\")\n",
    "plt.ylabel(\"sigma_true\")\n",
    "plt.xlabel(\"y_std\")\n",
    "plt.legend()"
   ]
  },
  {
   "cell_type": "code",
   "execution_count": 12,
   "metadata": {},
   "outputs": [
    {
     "name": "stdout",
     "output_type": "stream",
     "text": [
      "tensor(0.4722, device='cuda:0')\n",
      "tensor(0.4587, device='cuda:0')\n"
     ]
    }
   ],
   "source": [
    "id = 10\n",
    "print(y_std[id]*1.13 - 0.140)\n",
    "print(sigma_true[id])"
   ]
  }
 ],
 "metadata": {
  "kernelspec": {
   "display_name": "nanoGPT",
   "language": "python",
   "name": "python3"
  },
  "language_info": {
   "codemirror_mode": {
    "name": "ipython",
    "version": 3
   },
   "file_extension": ".py",
   "mimetype": "text/x-python",
   "name": "python",
   "nbconvert_exporter": "python",
   "pygments_lexer": "ipython3",
   "version": "3.9.15"
  }
 },
 "nbformat": 4,
 "nbformat_minor": 2
}
