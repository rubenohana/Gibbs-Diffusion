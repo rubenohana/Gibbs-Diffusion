{
 "cells": [
  {
   "cell_type": "markdown",
   "metadata": {},
   "source": [
    "#### Gets a quick estimate of the noise level (for initilization of the Gibbs chains), given the image standard deviation."
   ]
  },
  {
   "cell_type": "code",
   "execution_count": 6,
   "metadata": {},
   "outputs": [],
   "source": [
    "import torch\n",
    "import numpy as np\n",
    "import matplotlib.pyplot as plt\n",
    "import sys\n",
    "sys.path.append('../')\n",
    "\n",
    "from data import GDiff_dataset\n",
    "from model import load_model\n",
    "from inference_pytorch.colored_ps import ColoredPS\n",
    "\n",
    "import inference_pytorch.utils as iut\n",
    "from utils import get_colored_noise_2d\n",
    "from sklearn.linear_model import LinearRegression"
   ]
  },
  {
   "cell_type": "code",
   "execution_count": 12,
   "metadata": {},
   "outputs": [],
   "source": [
    "device = 0\n",
    "\n",
    "# Target parameters\n",
    "norm_phi_mode = 'compact' # Normalization mode for phi among ['compact', 'inf', None]\n",
    "sigma_min, sigma_max = 0.01, 1.0 # Bounds for sigma (no normalization). 0.01 leads to timestep of 1 -> we should not consider lower values with the current model.\n",
    "\n",
    "# Inference parameters\n",
    "num_samples = 68"
   ]
  },
  {
   "cell_type": "code",
   "execution_count": 13,
   "metadata": {},
   "outputs": [],
   "source": [
    "# Load dataset, diffusion model, and power spectrum model\n",
    "dataset = GDiff_dataset(dataset=\"CBSD68\")\n",
    "model = load_model(device=device)\n",
    "ps_model = ColoredPS(norm_input_phi=norm_phi_mode)"
   ]
  },
  {
   "cell_type": "code",
   "execution_count": 14,
   "metadata": {},
   "outputs": [
    {
     "name": "stdout",
     "output_type": "stream",
     "text": [
      "Normalized prior bounds are: tensor([0.0000, 0.0100], device='cuda:0') tensor([1., 1.], device='cuda:0')\n"
     ]
    }
   ],
   "source": [
    "#\n",
    "# Prior, likelihood, and posterior functions\n",
    "#\n",
    "\n",
    "sample_phi_prior = lambda n: iut.sample_prior_phi(n, norm=norm_phi_mode, device=device) # Sample uniformly in [-1, 1]\n",
    "\n",
    "#\n",
    "# Bounds and collision management\n",
    "#\n",
    "\n",
    "phi_min_norm, phi_max_norm = iut.get_phi_bounds(device=device) #change to work in [-1,1]\n",
    "phi_min_norm, phi_max_norm = iut.normalize_phi(phi_min_norm, mode=norm_phi_mode), iut.normalize_phi(phi_max_norm, mode=norm_phi_mode) #change to work in [-1,1]\n",
    "sigma_min_tensor = torch.tensor([sigma_min]).to(device)\n",
    "sigma_max_tensor = torch.tensor([sigma_max]).to(device)\n",
    "phi_min_norm = torch.concatenate((phi_min_norm, sigma_min_tensor)) # Add sigma_min to the list of parameter bounds\n",
    "phi_max_norm = torch.concatenate((phi_max_norm, sigma_max_tensor)) # Add sigma_max to the list of parameter bounds\n",
    "\n",
    "\n",
    "print(\"Normalized prior bounds are:\", phi_min_norm, phi_max_norm)"
   ]
  },
  {
   "cell_type": "code",
   "execution_count": 15,
   "metadata": {},
   "outputs": [],
   "source": [
    "#\n",
    "# Make test data\n",
    "#\n",
    "\n",
    "# Sample phi, sigma, load images, and add noise\n",
    "phi_true = sample_phi_prior(num_samples)\n",
    "sigma_true = torch.rand(num_samples, device=device) * (sigma_max - sigma_min) + sigma_min\n",
    "ps_test = ps_model(phi=phi_true) # power spectrum corresponding to phi_test (taking into account the normalization)\n",
    "sigma_test_timestep, _ = model.get_closest_timestep(sigma_true, model)\n",
    "alpha_bar_t = model.alpha_bar_t[sigma_test_timestep.cpu()].reshape(-1, 1, 1, 1).to(device)\n",
    "x = []\n",
    "for i in range(num_samples):\n",
    "    x.append(dataset[i][0].to(device))\n",
    "x = torch.stack(x)\n",
    "eps = torch.sqrt(1 - alpha_bar_t)/torch.sqrt(alpha_bar_t)*get_colored_noise_2d((num_samples, 3, 256, 256), phi_true).to(device) # get_colored_noise_2d needs unnormalized parameters\n",
    "y = x + eps # Noisy image\n",
    "yt = torch.sqrt(alpha_bar_t) * y # Noisy image normalized for the diffusion model"
   ]
  },
  {
   "cell_type": "code",
   "execution_count": 6,
   "metadata": {},
   "outputs": [
    {
     "data": {
      "text/plain": [
       "tensor([0.5797, 0.8285, 0.4446, 0.1864, 0.8518, 0.1656, 0.5245, 0.0667, 0.4159,\n",
       "        0.0507, 0.7254, 0.8607, 0.5527, 0.0166, 0.7475, 0.3286, 0.4331, 0.4704,\n",
       "        0.5676, 0.5614, 0.1761, 0.3491, 0.1946, 0.4075, 0.8361, 0.8190, 0.0506,\n",
       "        0.7226, 0.1432, 0.2756, 0.6619, 0.8150, 0.0127, 0.5217, 0.4155, 0.6029,\n",
       "        0.5428, 0.6968, 0.9211, 0.4385, 0.8038, 0.2499, 0.2367, 0.7913, 0.3428,\n",
       "        0.8925, 0.6230, 0.9378, 0.5621, 0.9967, 0.0440, 0.6619, 0.8514, 0.2626,\n",
       "        0.6328, 0.2006, 0.2255, 0.5139, 0.8447, 0.0674, 0.8391, 0.7102, 0.7672,\n",
       "        0.0492, 0.2023, 0.3006, 0.1523, 0.3631, 0.8102, 0.5378, 0.8278, 0.1678,\n",
       "        0.3433, 0.7877, 0.7740, 0.9603, 0.5591, 0.8607, 0.9528, 0.8439, 0.3198,\n",
       "        0.6174, 0.5049, 0.4107, 0.7251, 0.6496, 0.3008, 0.9287, 0.8728, 0.6730,\n",
       "        0.3196, 0.8537, 0.0118, 0.5783, 0.3728, 0.1895, 0.0423, 0.9165, 0.9867,\n",
       "        0.4206], device='cuda:0')"
      ]
     },
     "execution_count": 6,
     "metadata": {},
     "output_type": "execute_result"
    }
   ],
   "source": [
    "sigma_true"
   ]
  },
  {
   "cell_type": "code",
   "execution_count": 16,
   "metadata": {},
   "outputs": [],
   "source": [
    "y_std = y.std(dim=(1,2,3))"
   ]
  },
  {
   "cell_type": "code",
   "execution_count": 17,
   "metadata": {},
   "outputs": [],
   "source": [
    "y = sigma_true.cpu().numpy()\n",
    "x = y_std.cpu().numpy()"
   ]
  },
  {
   "cell_type": "code",
   "execution_count": 18,
   "metadata": {},
   "outputs": [
    {
     "name": "stdout",
     "output_type": "stream",
     "text": [
      "R2 score: 0.9733891801928222\n",
      "Slope: 1.1539917\n",
      "Intercept: -0.15453047\n",
      "Slope error: 1.0742401\n",
      "Intercept error: [nan]\n"
     ]
    },
    {
     "name": "stderr",
     "output_type": "stream",
     "text": [
      "/tmp/ipykernel_792802/1868530755.py:7: RuntimeWarning: invalid value encountered in sqrt\n",
      "  print(\"Intercept error:\", np.sqrt(np.diag(reg.intercept_))[0])\n"
     ]
    }
   ],
   "source": [
    "# Make a linear regression of y_std as a function of sigma_true\n",
    "reg = LinearRegression().fit(x.reshape(-1, 1), y.reshape(-1, 1))\n",
    "print(\"R2 score:\", reg.score(x.reshape(-1, 1), y.reshape(-1, 1)))\n",
    "print(\"Slope:\", reg.coef_[0,0])\n",
    "print(\"Intercept:\", reg.intercept_[0])\n",
    "print(\"Slope error:\", np.sqrt(np.diag(reg.coef_))[0])\n",
    "print(\"Intercept error:\", np.sqrt(np.diag(reg.intercept_))[0])"
   ]
  },
  {
   "cell_type": "code",
   "execution_count": 19,
   "metadata": {},
   "outputs": [
    {
     "data": {
      "text/plain": [
       "<matplotlib.legend.Legend at 0x7ff1bc5cce20>"
      ]
     },
     "execution_count": 19,
     "metadata": {},
     "output_type": "execute_result"
    },
    {
     "data": {
      "image/png": "[encoded data removed]",
      "text/plain": [
       "<Figure size 640x480 with 1 Axes>"
      ]
     },
     "metadata": {},
     "output_type": "display_data"
    }
   ],
   "source": [
    "# Plot the results\n",
    "plt.figure()\n",
    "plt.scatter(x, y, label=\"Data\")\n",
    "x_plot = np.linspace(0, 1, 100)\n",
    "plt.plot(x_plot, reg.predict(x_plot.reshape(-1, 1)), label=\"Linear regression\", color=\"red\")\n",
    "plt.ylabel(\"sigma_true\")\n",
    "plt.xlabel(\"y_std\")\n",
    "plt.legend()"
   ]
  },
  {
   "cell_type": "code",
   "execution_count": 24,
   "metadata": {},
   "outputs": [
    {
     "name": "stdout",
     "output_type": "stream",
     "text": [
      "tensor(0.7794, device='cuda:0')\n",
      "tensor(0.7592, device='cuda:0')\n"
     ]
    }
   ],
   "source": [
    "id = 10\n",
    "print(y_std[id]*1.15 - 0.1545)\n",
    "print(sigma_true[id])"
   ]
  },
  {
   "cell_type": "code",
   "execution_count": null,
   "metadata": {},
   "outputs": [],
   "source": []
  }
 ],
 "metadata": {
  "kernelspec": {
   "display_name": "nanoGPT",
   "language": "python",
   "name": "python3"
  },
  "language_info": {
   "codemirror_mode": {
    "name": "ipython",
    "version": 3
   },
   "file_extension": ".py",
   "mimetype": "text/x-python",
   "name": "python",
   "nbconvert_exporter": "python",
   "pygments_lexer": "ipython3",
   "version": "3.9.15"
  }
 },
 "nbformat": 4,
 "nbformat_minor": 2
}
